{
 "cells": [
  {
   "cell_type": "markdown",
   "metadata": {},
   "source": [
    "___\n",
    "\n",
    "<a href='http://www.pieriandata.com'> <img src='../Pierian_Data_Logo.png' /></a>\n",
    "___"
   ]
  },
  {
   "cell_type": "markdown",
   "metadata": {},
   "source": [
    "# Stop Words\n",
    "Words like \"a\" and \"the\" appear so frequently that they don't require tagging as thoroughly as nouns, verbs and modifiers. We call these *stop words*, and they can be filtered from the text to be processed. spaCy holds a built-in list of some 305 English stop words."
   ]
  },
  {
   "cell_type": "code",
   "execution_count": 1,
   "metadata": {},
   "outputs": [],
   "source": [
    "# Perform standard imports:\n",
    "import spacy\n",
    "nlp = spacy.load('en_core_web_sm')"
   ]
  },
  {
   "cell_type": "code",
   "execution_count": 2,
   "metadata": {},
   "outputs": [
    {
     "name": "stdout",
     "output_type": "stream",
     "text": [
      "{'through', 'always', 'once', 'rather', 'five', 'none', 'may', 'seemed', 'thereupon', 'see', '’ve', 'onto', 'within', 'during', 'at', 'hence', 'i', 'though', 'along', 'after', 're', 'are', 'serious', 'please', 'whereafter', 'part', 'whereas', 'keep', 'had', 'of', 'afterwards', 'you', 'still', 'amongst', 'made', 'or', 'under', 'except', 'done', \"'ll\", 'above', 'against', 'how', 'by', 'they', 'yourselves', 'become', 'such', 'make', 'now', 'first', 'being', 'whereby', 'one', 'well', 'give', 'n’t', 'was', 'either', 'with', 'her', 'over', 'am', 'go', 'becomes', 'put', 'empty', 'namely', 'meanwhile', 'enough', 'someone', 'side', 'various', 'which', 'although', 'nothing', 'anything', \"'ve\", 'take', 'hereby', 'its', 'two', '‘d', 'quite', 'together', 'seems', 'she', 'can', 'where', 'latter', 'back', 'fifty', 'before', 'too', '’d', 'ten', 'ourselves', 'top', 'thence', 'yet', 'thereby', 'almost', 'elsewhere', 'the', 'fifteen', 'bottom', 'somehow', 'n‘t', 'on', 'therein', 'former', '’m', 'due', 'hers', 'very', 'an', 'most', 'doing', 'yourself', 'did', 'towards', '’s', 'there', 'hundred', 'besides', 'least', 'could', 'from', 'seeming', 'his', 'upon', 'however', 'whose', 'nor', 'your', 'and', 'off', 'whenever', 'further', 'mine', 'why', 'to', 'beyond', 'others', 'ever', 'everyone', 'four', 'that', 'noone', \"n't\", 'if', 'really', 'often', 'three', 'each', 'since', 'he', 'never', 'perhaps', 'only', 'might', 'any', 'have', 'were', 'ours', 'for', 'few', 'otherwise', 'unless', 'than', 'also', 'be', 'used', 'me', 'say', 'seem', '‘ll', 'own', 'whom', 'other', 'toward', 'until', 'same', 'again', '’ll', 'third', 'would', '’re', 'more', 'down', 'amount', 'another', 'as', 'without', 'nevertheless', 'up', 'call', 'something', 'should', 'mostly', 'us', 'eleven', 'nobody', 'while', 'throughout', 'wherein', 'twelve', 'six', 'my', 'twenty', 'both', 'will', 'out', 'anyway', 'herein', 'do', 'whatever', 'less', 'does', 'every', 'sometime', 'became', 'sometimes', 'below', 'anyone', 'name', 'regarding', 'their', \"'re\", 'has', 'becoming', 'between', 'thus', 'in', 'get', 'last', 'our', 'move', 'full', 'even', 'yours', 'much', 'we', 'indeed', \"'s\", 'a', '‘re', 'alone', 'ca', 'nowhere', 'everywhere', 'whether', 'using', 'next', 'anyhow', 'when', 'show', 'hereafter', 'myself', 'those', 'these', '‘s', \"'m\", 'eight', '‘m', 'behind', 'moreover', 'no', 'across', 'forty', 'everything', 'not', 'herself', 'anywhere', 'nine', 'some', 'so', 'whoever', 'whole', 'here', 'but', 'whence', 'latterly', 'several', 'who', 'thereafter', 'per', '‘ve', 'himself', 'wherever', 'just', 'it', 'them', 'formerly', 'around', 'is', 'itself', 'else', 'among', 'front', 'whither', 'sixty', 'via', 'neither', 'thru', 'therefore', 'all', 'what', 'beside', 'this', 'many', 'then', 'because', 'into', 'about', 'cannot', 'already', 'whereupon', \"'d\", 'hereupon', 'him', 'must', 'themselves', 'somewhere', 'beforehand', 'been'}\n"
     ]
    }
   ],
   "source": [
    "# Print the set of spaCy's default stop words (remember that sets are unordered):\n",
    "print(nlp.Defaults.stop_words)"
   ]
  },
  {
   "cell_type": "code",
   "execution_count": 3,
   "metadata": {},
   "outputs": [
    {
     "data": {
      "text/plain": [
       "326"
      ]
     },
     "execution_count": 3,
     "metadata": {},
     "output_type": "execute_result"
    }
   ],
   "source": [
    "len(nlp.Defaults.stop_words)"
   ]
  },
  {
   "cell_type": "markdown",
   "metadata": {},
   "source": [
    "## To see if a word is a stop word"
   ]
  },
  {
   "cell_type": "code",
   "execution_count": 4,
   "metadata": {},
   "outputs": [
    {
     "data": {
      "text/plain": [
       "True"
      ]
     },
     "execution_count": 4,
     "metadata": {},
     "output_type": "execute_result"
    }
   ],
   "source": [
    "nlp.vocab['myself'].is_stop"
   ]
  },
  {
   "cell_type": "code",
   "execution_count": 5,
   "metadata": {},
   "outputs": [
    {
     "data": {
      "text/plain": [
       "False"
      ]
     },
     "execution_count": 5,
     "metadata": {},
     "output_type": "execute_result"
    }
   ],
   "source": [
    "nlp.vocab['mystery'].is_stop"
   ]
  },
  {
   "cell_type": "code",
   "execution_count": 6,
   "metadata": {},
   "outputs": [
    {
     "data": {
      "text/plain": [
       "766"
      ]
     },
     "execution_count": 6,
     "metadata": {},
     "output_type": "execute_result"
    }
   ],
   "source": [
    "len(nlp.vocab)"
   ]
  },
  {
   "cell_type": "markdown",
   "metadata": {},
   "source": [
    "## To add a stop word\n",
    "There may be times when you wish to add a stop word to the default set. Perhaps you decide that `'btw'` (common shorthand for \"by the way\") should be considered a stop word."
   ]
  },
  {
   "cell_type": "code",
   "execution_count": 7,
   "metadata": {},
   "outputs": [
    {
     "data": {
      "text/plain": [
       "False"
      ]
     },
     "execution_count": 7,
     "metadata": {},
     "output_type": "execute_result"
    }
   ],
   "source": [
    "nlp.vocab['btw'].is_stop "
   ]
  },
  {
   "cell_type": "code",
   "execution_count": 8,
   "metadata": {},
   "outputs": [],
   "source": [
    "# Add the word to the set of stop words. Use lowercase!\n",
    "nlp.Defaults.stop_words.add('btw')\n",
    "\n",
    "# Set the stop_word tag on the lexeme\n",
    "nlp.vocab['btw'].is_stop = True"
   ]
  },
  {
   "cell_type": "code",
   "execution_count": 9,
   "metadata": {},
   "outputs": [
    {
     "data": {
      "text/plain": [
       "327"
      ]
     },
     "execution_count": 9,
     "metadata": {},
     "output_type": "execute_result"
    }
   ],
   "source": [
    "len(nlp.Defaults.stop_words)"
   ]
  },
  {
   "cell_type": "code",
   "execution_count": 10,
   "metadata": {},
   "outputs": [
    {
     "data": {
      "text/plain": [
       "True"
      ]
     },
     "execution_count": 10,
     "metadata": {},
     "output_type": "execute_result"
    }
   ],
   "source": [
    "nlp.vocab['btw'].is_stop"
   ]
  },
  {
   "cell_type": "markdown",
   "metadata": {},
   "source": [
    "<font color=green>When adding stop words, always use lowercase. Lexemes are converted to lowercase before being added to **vocab**.</font>"
   ]
  },
  {
   "cell_type": "markdown",
   "metadata": {},
   "source": [
    "## To remove a stop word\n",
    "Alternatively, you may decide that `'beyond'` should not be considered a stop word."
   ]
  },
  {
   "cell_type": "code",
   "execution_count": 11,
   "metadata": {},
   "outputs": [
    {
     "data": {
      "text/plain": [
       "True"
      ]
     },
     "execution_count": 11,
     "metadata": {},
     "output_type": "execute_result"
    }
   ],
   "source": [
    "nlp.vocab['beyond'].is_stop"
   ]
  },
  {
   "cell_type": "code",
   "execution_count": 12,
   "metadata": {},
   "outputs": [],
   "source": [
    "# Remove the word from the set of stop words\n",
    "nlp.Defaults.stop_words.remove('beyond')\n",
    "\n",
    "# Remove the stop_word tag from the lexeme\n",
    "nlp.vocab['beyond'].is_stop = False"
   ]
  },
  {
   "cell_type": "code",
   "execution_count": 13,
   "metadata": {},
   "outputs": [
    {
     "data": {
      "text/plain": [
       "326"
      ]
     },
     "execution_count": 13,
     "metadata": {},
     "output_type": "execute_result"
    }
   ],
   "source": [
    "len(nlp.Defaults.stop_words)"
   ]
  },
  {
   "cell_type": "code",
   "execution_count": 14,
   "metadata": {},
   "outputs": [
    {
     "data": {
      "text/plain": [
       "False"
      ]
     },
     "execution_count": 14,
     "metadata": {},
     "output_type": "execute_result"
    }
   ],
   "source": [
    "nlp.vocab['beyond'].is_stop"
   ]
  },
  {
   "cell_type": "markdown",
   "metadata": {},
   "source": [
    "Great! Now you should be able to access spaCy's default set of stop words, and add or remove stop words as needed.\n",
    "## Next up: Vocabulary and Matching"
   ]
  },
  {
   "cell_type": "code",
   "execution_count": null,
   "metadata": {},
   "outputs": [],
   "source": []
  }
 ],
 "metadata": {
  "kernelspec": {
   "display_name": "Python 3 (ipykernel)",
   "language": "python",
   "name": "python3"
  },
  "language_info": {
   "codemirror_mode": {
    "name": "ipython",
    "version": 3
   },
   "file_extension": ".py",
   "mimetype": "text/x-python",
   "name": "python",
   "nbconvert_exporter": "python",
   "pygments_lexer": "ipython3",
   "version": "3.12.3"
  }
 },
 "nbformat": 4,
 "nbformat_minor": 4
}
